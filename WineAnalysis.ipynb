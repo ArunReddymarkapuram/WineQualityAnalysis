{
 "cells": [
  {
   "cell_type": "code",
   "execution_count": 1,
   "metadata": {},
   "outputs": [],
   "source": [
    "# Loading libraries\n",
    "import pandas as pd\n",
    "import matplotlib.pyplot as plt, matplotlib.image as mpimg\n",
    "from sklearn.model_selection import train_test_split\n",
    "import time\n",
    "import collections\n",
    "import numpy as np\n",
    "import math\n",
    "from IPython.display import Markdown, display\n",
    "from sklearn.metrics import pairwise\n",
    "\n",
    "COUNT = 1\n",
    "DISTANCE_WEIGHTED = 2\n",
    "EUCLID = 3\n",
    "COSINE = 4\n",
    "\n",
    "%matplotlib inline\n",
    "\n",
    "\n",
    "def printmd(string):\n",
    "    display(Markdown(string))"
   ]
  },
  {
   "cell_type": "code",
   "execution_count": 40,
   "metadata": {},
   "outputs": [],
   "source": [
    "# Import data\n",
    "wine = pd.read_csv('winequality-red.csv', sep = ';')"
   ]
  },
  {
   "cell_type": "code",
   "execution_count": 41,
   "metadata": {},
   "outputs": [
    {
     "name": "stdout",
     "output_type": "stream",
     "text": [
      "      class\n",
      "High    855\n",
      "Low     744\n"
     ]
    },
    {
     "data": {
      "image/png": "[encoded data removed]",
      "text/plain": [
       "<matplotlib.figure.Figure at 0x10eb87358>"
      ]
     },
     "metadata": {},
     "output_type": "display_data"
    }
   ],
   "source": [
    "# Creating the class attribute\n",
    "wine['class'] = ['Low' if i <= 5 else \"High\" for i in wine.quality]\n",
    "wine['class'].value_counts().plot(kind = 'bar', title = 'Distribution of classes')\n",
    "\n",
    "# Dropping quality attribute\n",
    "wine.drop(columns = ['quality'], inplace = True)\n",
    "\n",
    "# Paritioning dependent attributes from the independent attributes\n",
    "wine_data = wine[wine.columns[wine.columns != 'class']]\n",
    "wine_label = wine['class']\n",
    "print(pd.DataFrame(wine_label.value_counts()))"
   ]
  },
  {
   "cell_type": "code",
   "execution_count": 21,
   "metadata": {},
   "outputs": [
    {
     "data": {
      "text/html": [
       "<div>\n",
       "<style scoped>\n",
       "    .dataframe tbody tr th:only-of-type {\n",
       "        vertical-align: middle;\n",
       "    }\n",
       "\n",
       "    .dataframe tbody tr th {\n",
       "        vertical-align: top;\n",
       "    }\n",
       "\n",
       "    .dataframe thead th {\n",
       "        text-align: right;\n",
       "    }\n",
       "</style>\n",
       "<table border=\"1\" class=\"dataframe\">\n",
       "  <thead>\n",
       "    <tr style=\"text-align: right;\">\n",
       "      <th></th>\n",
       "      <th>fixed acidity</th>\n",
       "      <th>volatile acidity</th>\n",
       "      <th>citric acid</th>\n",
       "      <th>residual sugar</th>\n",
       "      <th>chlorides</th>\n",
       "      <th>free sulfur dioxide</th>\n",
       "      <th>total sulfur dioxide</th>\n",
       "      <th>density</th>\n",
       "      <th>pH</th>\n",
       "      <th>sulphates</th>\n",
       "      <th>alcohol</th>\n",
       "      <th>class</th>\n",
       "    </tr>\n",
       "  </thead>\n",
       "  <tbody>\n",
       "    <tr>\n",
       "      <th>0</th>\n",
       "      <td>7.4</td>\n",
       "      <td>0.70</td>\n",
       "      <td>0.00</td>\n",
       "      <td>1.9</td>\n",
       "      <td>0.076</td>\n",
       "      <td>11.0</td>\n",
       "      <td>34.0</td>\n",
       "      <td>0.9978</td>\n",
       "      <td>3.51</td>\n",
       "      <td>0.56</td>\n",
       "      <td>9.4</td>\n",
       "      <td>Low</td>\n",
       "    </tr>\n",
       "    <tr>\n",
       "      <th>1</th>\n",
       "      <td>7.8</td>\n",
       "      <td>0.88</td>\n",
       "      <td>0.00</td>\n",
       "      <td>2.6</td>\n",
       "      <td>0.098</td>\n",
       "      <td>25.0</td>\n",
       "      <td>67.0</td>\n",
       "      <td>0.9968</td>\n",
       "      <td>3.20</td>\n",
       "      <td>0.68</td>\n",
       "      <td>9.8</td>\n",
       "      <td>Low</td>\n",
       "    </tr>\n",
       "    <tr>\n",
       "      <th>2</th>\n",
       "      <td>7.8</td>\n",
       "      <td>0.76</td>\n",
       "      <td>0.04</td>\n",
       "      <td>2.3</td>\n",
       "      <td>0.092</td>\n",
       "      <td>15.0</td>\n",
       "      <td>54.0</td>\n",
       "      <td>0.9970</td>\n",
       "      <td>3.26</td>\n",
       "      <td>0.65</td>\n",
       "      <td>9.8</td>\n",
       "      <td>Low</td>\n",
       "    </tr>\n",
       "    <tr>\n",
       "      <th>3</th>\n",
       "      <td>11.2</td>\n",
       "      <td>0.28</td>\n",
       "      <td>0.56</td>\n",
       "      <td>1.9</td>\n",
       "      <td>0.075</td>\n",
       "      <td>17.0</td>\n",
       "      <td>60.0</td>\n",
       "      <td>0.9980</td>\n",
       "      <td>3.16</td>\n",
       "      <td>0.58</td>\n",
       "      <td>9.8</td>\n",
       "      <td>High</td>\n",
       "    </tr>\n",
       "    <tr>\n",
       "      <th>4</th>\n",
       "      <td>7.4</td>\n",
       "      <td>0.70</td>\n",
       "      <td>0.00</td>\n",
       "      <td>1.9</td>\n",
       "      <td>0.076</td>\n",
       "      <td>11.0</td>\n",
       "      <td>34.0</td>\n",
       "      <td>0.9978</td>\n",
       "      <td>3.51</td>\n",
       "      <td>0.56</td>\n",
       "      <td>9.4</td>\n",
       "      <td>Low</td>\n",
       "    </tr>\n",
       "  </tbody>\n",
       "</table>\n",
       "</div>"
      ],
      "text/plain": [
       "   fixed acidity  volatile acidity  citric acid  residual sugar  chlorides  \\\n",
       "0            7.4              0.70         0.00             1.9      0.076   \n",
       "1            7.8              0.88         0.00             2.6      0.098   \n",
       "2            7.8              0.76         0.04             2.3      0.092   \n",
       "3           11.2              0.28         0.56             1.9      0.075   \n",
       "4            7.4              0.70         0.00             1.9      0.076   \n",
       "\n",
       "   free sulfur dioxide  total sulfur dioxide  density    pH  sulphates  \\\n",
       "0                 11.0                  34.0   0.9978  3.51       0.56   \n",
       "1                 25.0                  67.0   0.9968  3.20       0.68   \n",
       "2                 15.0                  54.0   0.9970  3.26       0.65   \n",
       "3                 17.0                  60.0   0.9980  3.16       0.58   \n",
       "4                 11.0                  34.0   0.9978  3.51       0.56   \n",
       "\n",
       "   alcohol class  \n",
       "0      9.4   Low  \n",
       "1      9.8   Low  \n",
       "2      9.8   Low  \n",
       "3      9.8  High  \n",
       "4      9.4   Low  "
      ]
     },
     "execution_count": 21,
     "metadata": {},
     "output_type": "execute_result"
    }
   ],
   "source": [
    "wine.head()"
   ]
  },
  {
   "cell_type": "code",
   "execution_count": 22,
   "metadata": {
    "scrolled": true
   },
   "outputs": [
    {
     "data": {
      "text/html": [
       "<div>\n",
       "<style scoped>\n",
       "    .dataframe tbody tr th:only-of-type {\n",
       "        vertical-align: middle;\n",
       "    }\n",
       "\n",
       "    .dataframe tbody tr th {\n",
       "        vertical-align: top;\n",
       "    }\n",
       "\n",
       "    .dataframe thead th {\n",
       "        text-align: right;\n",
       "    }\n",
       "</style>\n",
       "<table border=\"1\" class=\"dataframe\">\n",
       "  <thead>\n",
       "    <tr style=\"text-align: right;\">\n",
       "      <th></th>\n",
       "      <th>fixed acidity</th>\n",
       "      <th>volatile acidity</th>\n",
       "      <th>citric acid</th>\n",
       "      <th>residual sugar</th>\n",
       "      <th>chlorides</th>\n",
       "      <th>free sulfur dioxide</th>\n",
       "      <th>total sulfur dioxide</th>\n",
       "      <th>density</th>\n",
       "      <th>pH</th>\n",
       "      <th>sulphates</th>\n",
       "      <th>alcohol</th>\n",
       "    </tr>\n",
       "  </thead>\n",
       "  <tbody>\n",
       "    <tr>\n",
       "      <th>count</th>\n",
       "      <td>1599.000000</td>\n",
       "      <td>1599.000000</td>\n",
       "      <td>1599.000000</td>\n",
       "      <td>1599.000000</td>\n",
       "      <td>1599.000000</td>\n",
       "      <td>1599.000000</td>\n",
       "      <td>1599.000000</td>\n",
       "      <td>1599.000000</td>\n",
       "      <td>1599.000000</td>\n",
       "      <td>1599.000000</td>\n",
       "      <td>1599.000000</td>\n",
       "    </tr>\n",
       "    <tr>\n",
       "      <th>mean</th>\n",
       "      <td>8.319637</td>\n",
       "      <td>0.527821</td>\n",
       "      <td>0.270976</td>\n",
       "      <td>2.538806</td>\n",
       "      <td>0.087467</td>\n",
       "      <td>15.874922</td>\n",
       "      <td>46.467792</td>\n",
       "      <td>0.996747</td>\n",
       "      <td>3.311113</td>\n",
       "      <td>0.658149</td>\n",
       "      <td>10.422983</td>\n",
       "    </tr>\n",
       "    <tr>\n",
       "      <th>std</th>\n",
       "      <td>1.741096</td>\n",
       "      <td>0.179060</td>\n",
       "      <td>0.194801</td>\n",
       "      <td>1.409928</td>\n",
       "      <td>0.047065</td>\n",
       "      <td>10.460157</td>\n",
       "      <td>32.895324</td>\n",
       "      <td>0.001887</td>\n",
       "      <td>0.154386</td>\n",
       "      <td>0.169507</td>\n",
       "      <td>1.065668</td>\n",
       "    </tr>\n",
       "    <tr>\n",
       "      <th>min</th>\n",
       "      <td>4.600000</td>\n",
       "      <td>0.120000</td>\n",
       "      <td>0.000000</td>\n",
       "      <td>0.900000</td>\n",
       "      <td>0.012000</td>\n",
       "      <td>1.000000</td>\n",
       "      <td>6.000000</td>\n",
       "      <td>0.990070</td>\n",
       "      <td>2.740000</td>\n",
       "      <td>0.330000</td>\n",
       "      <td>8.400000</td>\n",
       "    </tr>\n",
       "    <tr>\n",
       "      <th>25%</th>\n",
       "      <td>7.100000</td>\n",
       "      <td>0.390000</td>\n",
       "      <td>0.090000</td>\n",
       "      <td>1.900000</td>\n",
       "      <td>0.070000</td>\n",
       "      <td>7.000000</td>\n",
       "      <td>22.000000</td>\n",
       "      <td>0.995600</td>\n",
       "      <td>3.210000</td>\n",
       "      <td>0.550000</td>\n",
       "      <td>9.500000</td>\n",
       "    </tr>\n",
       "    <tr>\n",
       "      <th>50%</th>\n",
       "      <td>7.900000</td>\n",
       "      <td>0.520000</td>\n",
       "      <td>0.260000</td>\n",
       "      <td>2.200000</td>\n",
       "      <td>0.079000</td>\n",
       "      <td>14.000000</td>\n",
       "      <td>38.000000</td>\n",
       "      <td>0.996750</td>\n",
       "      <td>3.310000</td>\n",
       "      <td>0.620000</td>\n",
       "      <td>10.200000</td>\n",
       "    </tr>\n",
       "    <tr>\n",
       "      <th>75%</th>\n",
       "      <td>9.200000</td>\n",
       "      <td>0.640000</td>\n",
       "      <td>0.420000</td>\n",
       "      <td>2.600000</td>\n",
       "      <td>0.090000</td>\n",
       "      <td>21.000000</td>\n",
       "      <td>62.000000</td>\n",
       "      <td>0.997835</td>\n",
       "      <td>3.400000</td>\n",
       "      <td>0.730000</td>\n",
       "      <td>11.100000</td>\n",
       "    </tr>\n",
       "    <tr>\n",
       "      <th>max</th>\n",
       "      <td>15.900000</td>\n",
       "      <td>1.580000</td>\n",
       "      <td>1.000000</td>\n",
       "      <td>15.500000</td>\n",
       "      <td>0.611000</td>\n",
       "      <td>72.000000</td>\n",
       "      <td>289.000000</td>\n",
       "      <td>1.003690</td>\n",
       "      <td>4.010000</td>\n",
       "      <td>2.000000</td>\n",
       "      <td>14.900000</td>\n",
       "    </tr>\n",
       "  </tbody>\n",
       "</table>\n",
       "</div>"
      ],
      "text/plain": [
       "       fixed acidity  volatile acidity  citric acid  residual sugar  \\\n",
       "count    1599.000000       1599.000000  1599.000000     1599.000000   \n",
       "mean        8.319637          0.527821     0.270976        2.538806   \n",
       "std         1.741096          0.179060     0.194801        1.409928   \n",
       "min         4.600000          0.120000     0.000000        0.900000   \n",
       "25%         7.100000          0.390000     0.090000        1.900000   \n",
       "50%         7.900000          0.520000     0.260000        2.200000   \n",
       "75%         9.200000          0.640000     0.420000        2.600000   \n",
       "max        15.900000          1.580000     1.000000       15.500000   \n",
       "\n",
       "         chlorides  free sulfur dioxide  total sulfur dioxide      density  \\\n",
       "count  1599.000000          1599.000000           1599.000000  1599.000000   \n",
       "mean      0.087467            15.874922             46.467792     0.996747   \n",
       "std       0.047065            10.460157             32.895324     0.001887   \n",
       "min       0.012000             1.000000              6.000000     0.990070   \n",
       "25%       0.070000             7.000000             22.000000     0.995600   \n",
       "50%       0.079000            14.000000             38.000000     0.996750   \n",
       "75%       0.090000            21.000000             62.000000     0.997835   \n",
       "max       0.611000            72.000000            289.000000     1.003690   \n",
       "\n",
       "                pH    sulphates      alcohol  \n",
       "count  1599.000000  1599.000000  1599.000000  \n",
       "mean      3.311113     0.658149    10.422983  \n",
       "std       0.154386     0.169507     1.065668  \n",
       "min       2.740000     0.330000     8.400000  \n",
       "25%       3.210000     0.550000     9.500000  \n",
       "50%       3.310000     0.620000    10.200000  \n",
       "75%       3.400000     0.730000    11.100000  \n",
       "max       4.010000     2.000000    14.900000  "
      ]
     },
     "execution_count": 22,
     "metadata": {},
     "output_type": "execute_result"
    }
   ],
   "source": [
    "wine_data.describe()"
   ]
  },
  {
   "cell_type": "code",
   "execution_count": 23,
   "metadata": {
    "scrolled": false
   },
   "outputs": [
    {
     "data": {
      "text/markdown": [
       "## Boxplot"
      ],
      "text/plain": [
       "<IPython.core.display.Markdown object>"
      ]
     },
     "metadata": {},
     "output_type": "display_data"
    },
    {
     "data": {
      "text/plain": [
       "<matplotlib.axes._subplots.AxesSubplot at 0x10f3b1470>"
      ]
     },
     "execution_count": 23,
     "metadata": {},
     "output_type": "execute_result"
    },
    {
     "data": {
      "image/png": "[encoded data removed]",
      "text/plain": [
       "<matplotlib.figure.Figure at 0x10f3a7390>"
      ]
     },
     "metadata": {},
     "output_type": "display_data"
    }
   ],
   "source": [
    "printmd('## Boxplot')\n",
    "wine_data.plot(kind = 'box', figsize = (20,10), title = 'Boxplot')"
   ]
  },
  {
   "cell_type": "code",
   "execution_count": 25,
   "metadata": {},
   "outputs": [
    {
     "data": {
      "text/markdown": [
       "## Outlier Analysis"
      ],
      "text/plain": [
       "<IPython.core.display.Markdown object>"
      ]
     },
     "metadata": {},
     "output_type": "display_data"
    },
    {
     "data": {
      "text/markdown": [
       "### Boxplot"
      ],
      "text/plain": [
       "<IPython.core.display.Markdown object>"
      ]
     },
     "metadata": {},
     "output_type": "display_data"
    },
    {
     "data": {
      "text/plain": [
       "<matplotlib.axes._subplots.AxesSubplot at 0x10ed04860>"
      ]
     },
     "execution_count": 25,
     "metadata": {},
     "output_type": "execute_result"
    },
    {
     "data": {
      "image/png": "[encoded data removed]",
      "text/plain": [
       "<matplotlib.figure.Figure at 0x10f9d7198>"
      ]
     },
     "metadata": {},
     "output_type": "display_data"
    }
   ],
   "source": [
    "printmd('## Outlier Analysis')\n",
    "# Removing outliers\n",
    "# Keeping records where the column values are within +3/-3 standard deviations from the mean\n",
    "\n",
    "outlier_filter = (np.abs(wine_data - wine_data.mean()) <= (3*wine_data.std())).all(1)\n",
    "wine_data = wine_data[outlier_filter] \n",
    "wine_label = wine_label[outlier_filter]\n",
    "\n",
    "printmd('### Boxplot')\n",
    "wine_data.plot(kind = 'box', figsize = (20,10), title = 'Boxplot')"
   ]
  },
  {
   "cell_type": "code",
   "execution_count": 26,
   "metadata": {
    "scrolled": false
   },
   "outputs": [
    {
     "data": {
      "text/markdown": [
       "## Correlation Matrix"
      ],
      "text/plain": [
       "<IPython.core.display.Markdown object>"
      ]
     },
     "metadata": {},
     "output_type": "display_data"
    },
    {
     "data": {
      "text/html": [
       "<div>\n",
       "<style scoped>\n",
       "    .dataframe tbody tr th:only-of-type {\n",
       "        vertical-align: middle;\n",
       "    }\n",
       "\n",
       "    .dataframe tbody tr th {\n",
       "        vertical-align: top;\n",
       "    }\n",
       "\n",
       "    .dataframe thead th {\n",
       "        text-align: right;\n",
       "    }\n",
       "</style>\n",
       "<table border=\"1\" class=\"dataframe\">\n",
       "  <thead>\n",
       "    <tr style=\"text-align: right;\">\n",
       "      <th></th>\n",
       "      <th>fixed acidity</th>\n",
       "      <th>volatile acidity</th>\n",
       "      <th>citric acid</th>\n",
       "      <th>residual sugar</th>\n",
       "      <th>chlorides</th>\n",
       "      <th>free sulfur dioxide</th>\n",
       "      <th>total sulfur dioxide</th>\n",
       "      <th>density</th>\n",
       "      <th>pH</th>\n",
       "      <th>sulphates</th>\n",
       "      <th>alcohol</th>\n",
       "    </tr>\n",
       "  </thead>\n",
       "  <tbody>\n",
       "    <tr>\n",
       "      <th>fixed acidity</th>\n",
       "      <td>1.000000</td>\n",
       "      <td>-0.296566</td>\n",
       "      <td>0.699747</td>\n",
       "      <td>0.175809</td>\n",
       "      <td>0.187853</td>\n",
       "      <td>-0.146702</td>\n",
       "      <td>-0.098843</td>\n",
       "      <td>0.660497</td>\n",
       "      <td>-0.704507</td>\n",
       "      <td>0.200796</td>\n",
       "      <td>-0.018384</td>\n",
       "    </tr>\n",
       "    <tr>\n",
       "      <th>volatile acidity</th>\n",
       "      <td>-0.296566</td>\n",
       "      <td>1.000000</td>\n",
       "      <td>-0.589286</td>\n",
       "      <td>0.032331</td>\n",
       "      <td>0.070307</td>\n",
       "      <td>0.008824</td>\n",
       "      <td>0.104585</td>\n",
       "      <td>-0.000446</td>\n",
       "      <td>0.252900</td>\n",
       "      <td>-0.350547</td>\n",
       "      <td>-0.212767</td>\n",
       "    </tr>\n",
       "    <tr>\n",
       "      <th>citric acid</th>\n",
       "      <td>0.699747</td>\n",
       "      <td>-0.589286</td>\n",
       "      <td>1.000000</td>\n",
       "      <td>0.178784</td>\n",
       "      <td>0.104950</td>\n",
       "      <td>-0.072097</td>\n",
       "      <td>0.007320</td>\n",
       "      <td>0.372338</td>\n",
       "      <td>-0.521270</td>\n",
       "      <td>0.303401</td>\n",
       "      <td>0.164420</td>\n",
       "    </tr>\n",
       "    <tr>\n",
       "      <th>residual sugar</th>\n",
       "      <td>0.175809</td>\n",
       "      <td>0.032331</td>\n",
       "      <td>0.178784</td>\n",
       "      <td>1.000000</td>\n",
       "      <td>0.121287</td>\n",
       "      <td>-0.005795</td>\n",
       "      <td>0.091381</td>\n",
       "      <td>0.343236</td>\n",
       "      <td>-0.072787</td>\n",
       "      <td>0.071218</td>\n",
       "      <td>0.162423</td>\n",
       "    </tr>\n",
       "    <tr>\n",
       "      <th>chlorides</th>\n",
       "      <td>0.187853</td>\n",
       "      <td>0.070307</td>\n",
       "      <td>0.104950</td>\n",
       "      <td>0.121287</td>\n",
       "      <td>1.000000</td>\n",
       "      <td>-0.057342</td>\n",
       "      <td>0.040874</td>\n",
       "      <td>0.330104</td>\n",
       "      <td>-0.183105</td>\n",
       "      <td>0.025329</td>\n",
       "      <td>-0.209711</td>\n",
       "    </tr>\n",
       "    <tr>\n",
       "      <th>free sulfur dioxide</th>\n",
       "      <td>-0.146702</td>\n",
       "      <td>0.008824</td>\n",
       "      <td>-0.072097</td>\n",
       "      <td>-0.005795</td>\n",
       "      <td>-0.057342</td>\n",
       "      <td>1.000000</td>\n",
       "      <td>0.660348</td>\n",
       "      <td>-0.039334</td>\n",
       "      <td>0.107444</td>\n",
       "      <td>0.059713</td>\n",
       "      <td>-0.076400</td>\n",
       "    </tr>\n",
       "    <tr>\n",
       "      <th>total sulfur dioxide</th>\n",
       "      <td>-0.098843</td>\n",
       "      <td>0.104585</td>\n",
       "      <td>0.007320</td>\n",
       "      <td>0.091381</td>\n",
       "      <td>0.040874</td>\n",
       "      <td>0.660348</td>\n",
       "      <td>1.000000</td>\n",
       "      <td>0.116386</td>\n",
       "      <td>-0.007726</td>\n",
       "      <td>-0.037164</td>\n",
       "      <td>-0.257834</td>\n",
       "    </tr>\n",
       "    <tr>\n",
       "      <th>density</th>\n",
       "      <td>0.660497</td>\n",
       "      <td>-0.000446</td>\n",
       "      <td>0.372338</td>\n",
       "      <td>0.343236</td>\n",
       "      <td>0.330104</td>\n",
       "      <td>-0.039334</td>\n",
       "      <td>0.116386</td>\n",
       "      <td>1.000000</td>\n",
       "      <td>-0.311217</td>\n",
       "      <td>0.127562</td>\n",
       "      <td>-0.469611</td>\n",
       "    </tr>\n",
       "    <tr>\n",
       "      <th>pH</th>\n",
       "      <td>-0.704507</td>\n",
       "      <td>0.252900</td>\n",
       "      <td>-0.521270</td>\n",
       "      <td>-0.072787</td>\n",
       "      <td>-0.183105</td>\n",
       "      <td>0.107444</td>\n",
       "      <td>-0.007726</td>\n",
       "      <td>-0.311217</td>\n",
       "      <td>1.000000</td>\n",
       "      <td>-0.039558</td>\n",
       "      <td>0.136659</td>\n",
       "    </tr>\n",
       "    <tr>\n",
       "      <th>sulphates</th>\n",
       "      <td>0.200796</td>\n",
       "      <td>-0.350547</td>\n",
       "      <td>0.303401</td>\n",
       "      <td>0.071218</td>\n",
       "      <td>0.025329</td>\n",
       "      <td>0.059713</td>\n",
       "      <td>-0.037164</td>\n",
       "      <td>0.127562</td>\n",
       "      <td>-0.039558</td>\n",
       "      <td>1.000000</td>\n",
       "      <td>0.240684</td>\n",
       "    </tr>\n",
       "    <tr>\n",
       "      <th>alcohol</th>\n",
       "      <td>-0.018384</td>\n",
       "      <td>-0.212767</td>\n",
       "      <td>0.164420</td>\n",
       "      <td>0.162423</td>\n",
       "      <td>-0.209711</td>\n",
       "      <td>-0.076400</td>\n",
       "      <td>-0.257834</td>\n",
       "      <td>-0.469611</td>\n",
       "      <td>0.136659</td>\n",
       "      <td>0.240684</td>\n",
       "      <td>1.000000</td>\n",
       "    </tr>\n",
       "  </tbody>\n",
       "</table>\n",
       "</div>"
      ],
      "text/plain": [
       "                      fixed acidity  volatile acidity  citric acid  \\\n",
       "fixed acidity              1.000000         -0.296566     0.699747   \n",
       "volatile acidity          -0.296566          1.000000    -0.589286   \n",
       "citric acid                0.699747         -0.589286     1.000000   \n",
       "residual sugar             0.175809          0.032331     0.178784   \n",
       "chlorides                  0.187853          0.070307     0.104950   \n",
       "free sulfur dioxide       -0.146702          0.008824    -0.072097   \n",
       "total sulfur dioxide      -0.098843          0.104585     0.007320   \n",
       "density                    0.660497         -0.000446     0.372338   \n",
       "pH                        -0.704507          0.252900    -0.521270   \n",
       "sulphates                  0.200796         -0.350547     0.303401   \n",
       "alcohol                   -0.018384         -0.212767     0.164420   \n",
       "\n",
       "                      residual sugar  chlorides  free sulfur dioxide  \\\n",
       "fixed acidity               0.175809   0.187853            -0.146702   \n",
       "volatile acidity            0.032331   0.070307             0.008824   \n",
       "citric acid                 0.178784   0.104950            -0.072097   \n",
       "residual sugar              1.000000   0.121287            -0.005795   \n",
       "chlorides                   0.121287   1.000000            -0.057342   \n",
       "free sulfur dioxide        -0.005795  -0.057342             1.000000   \n",
       "total sulfur dioxide        0.091381   0.040874             0.660348   \n",
       "density                     0.343236   0.330104            -0.039334   \n",
       "pH                         -0.072787  -0.183105             0.107444   \n",
       "sulphates                   0.071218   0.025329             0.059713   \n",
       "alcohol                     0.162423  -0.209711            -0.076400   \n",
       "\n",
       "                      total sulfur dioxide   density        pH  sulphates  \\\n",
       "fixed acidity                    -0.098843  0.660497 -0.704507   0.200796   \n",
       "volatile acidity                  0.104585 -0.000446  0.252900  -0.350547   \n",
       "citric acid                       0.007320  0.372338 -0.521270   0.303401   \n",
       "residual sugar                    0.091381  0.343236 -0.072787   0.071218   \n",
       "chlorides                         0.040874  0.330104 -0.183105   0.025329   \n",
       "free sulfur dioxide               0.660348 -0.039334  0.107444   0.059713   \n",
       "total sulfur dioxide              1.000000  0.116386 -0.007726  -0.037164   \n",
       "density                           0.116386  1.000000 -0.311217   0.127562   \n",
       "pH                               -0.007726 -0.311217  1.000000  -0.039558   \n",
       "sulphates                        -0.037164  0.127562 -0.039558   1.000000   \n",
       "alcohol                          -0.257834 -0.469611  0.136659   0.240684   \n",
       "\n",
       "                       alcohol  \n",
       "fixed acidity        -0.018384  \n",
       "volatile acidity     -0.212767  \n",
       "citric acid           0.164420  \n",
       "residual sugar        0.162423  \n",
       "chlorides            -0.209711  \n",
       "free sulfur dioxide  -0.076400  \n",
       "total sulfur dioxide -0.257834  \n",
       "density              -0.469611  \n",
       "pH                    0.136659  \n",
       "sulphates             0.240684  \n",
       "alcohol               1.000000  "
      ]
     },
     "execution_count": 26,
     "metadata": {},
     "output_type": "execute_result"
    }
   ],
   "source": [
    "printmd('## Correlation Matrix')\n",
    "wine_data.corr(method = 'pearson')"
   ]
  },
  {
   "cell_type": "code",
   "execution_count": 32,
   "metadata": {},
   "outputs": [
    {
     "data": {
      "text/markdown": [
       "## Correlated Pairs"
      ],
      "text/plain": [
       "<IPython.core.display.Markdown object>"
      ]
     },
     "metadata": {},
     "output_type": "display_data"
    },
    {
     "data": {
      "text/html": [
       "<div>\n",
       "<style scoped>\n",
       "    .dataframe tbody tr th:only-of-type {\n",
       "        vertical-align: middle;\n",
       "    }\n",
       "\n",
       "    .dataframe tbody tr th {\n",
       "        vertical-align: top;\n",
       "    }\n",
       "\n",
       "    .dataframe thead th {\n",
       "        text-align: right;\n",
       "    }\n",
       "</style>\n",
       "<table border=\"1\" class=\"dataframe\">\n",
       "  <thead>\n",
       "    <tr style=\"text-align: right;\">\n",
       "      <th></th>\n",
       "      <th></th>\n",
       "      <th>Coefficient</th>\n",
       "    </tr>\n",
       "  </thead>\n",
       "  <tbody>\n",
       "    <tr>\n",
       "      <th>pH</th>\n",
       "      <th>fixed acidity</th>\n",
       "      <td>-0.704507</td>\n",
       "    </tr>\n",
       "    <tr>\n",
       "      <th>fixed acidity</th>\n",
       "      <th>pH</th>\n",
       "      <td>-0.704507</td>\n",
       "    </tr>\n",
       "    <tr>\n",
       "      <th>volatile acidity</th>\n",
       "      <th>citric acid</th>\n",
       "      <td>-0.589286</td>\n",
       "    </tr>\n",
       "    <tr>\n",
       "      <th>citric acid</th>\n",
       "      <th>volatile acidity</th>\n",
       "      <td>-0.589286</td>\n",
       "    </tr>\n",
       "    <tr>\n",
       "      <th>pH</th>\n",
       "      <th>citric acid</th>\n",
       "      <td>-0.521270</td>\n",
       "    </tr>\n",
       "    <tr>\n",
       "      <th>citric acid</th>\n",
       "      <th>pH</th>\n",
       "      <td>-0.521270</td>\n",
       "    </tr>\n",
       "    <tr>\n",
       "      <th>free sulfur dioxide</th>\n",
       "      <th>total sulfur dioxide</th>\n",
       "      <td>0.660348</td>\n",
       "    </tr>\n",
       "    <tr>\n",
       "      <th>total sulfur dioxide</th>\n",
       "      <th>free sulfur dioxide</th>\n",
       "      <td>0.660348</td>\n",
       "    </tr>\n",
       "    <tr>\n",
       "      <th>density</th>\n",
       "      <th>fixed acidity</th>\n",
       "      <td>0.660497</td>\n",
       "    </tr>\n",
       "    <tr>\n",
       "      <th>fixed acidity</th>\n",
       "      <th>density</th>\n",
       "      <td>0.660497</td>\n",
       "    </tr>\n",
       "    <tr>\n",
       "      <th>citric acid</th>\n",
       "      <th>fixed acidity</th>\n",
       "      <td>0.699747</td>\n",
       "    </tr>\n",
       "    <tr>\n",
       "      <th>fixed acidity</th>\n",
       "      <th>citric acid</th>\n",
       "      <td>0.699747</td>\n",
       "    </tr>\n",
       "  </tbody>\n",
       "</table>\n",
       "</div>"
      ],
      "text/plain": [
       "                                           Coefficient\n",
       "pH                   fixed acidity           -0.704507\n",
       "fixed acidity        pH                      -0.704507\n",
       "volatile acidity     citric acid             -0.589286\n",
       "citric acid          volatile acidity        -0.589286\n",
       "pH                   citric acid             -0.521270\n",
       "citric acid          pH                      -0.521270\n",
       "free sulfur dioxide  total sulfur dioxide     0.660348\n",
       "total sulfur dioxide free sulfur dioxide      0.660348\n",
       "density              fixed acidity            0.660497\n",
       "fixed acidity        density                  0.660497\n",
       "citric acid          fixed acidity            0.699747\n",
       "fixed acidity        citric acid              0.699747"
      ]
     },
     "execution_count": 32,
     "metadata": {},
     "output_type": "execute_result"
    }
   ],
   "source": [
    "printmd('## Correlated Pairs')\n",
    "correlated_pairs = wine_data.corr()\n",
    "top_correlated_pairs = correlated_pairs.unstack().sort_values(kind=\"quicksort\")\n",
    "pd.DataFrame(top_correlated_pairs[((top_correlated_pairs < -0.5) & (top_correlated_pairs > -1)) | ((top_correlated_pairs>0.5) & (top_correlated_pairs <1))], columns = ['Coefficient'])"
   ]
  },
  {
   "cell_type": "code",
   "execution_count": null,
   "metadata": {},
   "outputs": [],
   "source": []
  },
  {
   "cell_type": "code",
   "execution_count": null,
   "metadata": {},
   "outputs": [],
   "source": [
    "# Splitting data into train/test\n",
    "X = np.array(wine_data)\n",
    "y = np.array(wine_label)\n",
    "\n",
    "\n",
    "X_train, X_test, y_train, y_test = train_test_split(X, y, test_size=0.25, random_state=42)"
   ]
  },
  {
   "cell_type": "code",
   "execution_count": null,
   "metadata": {},
   "outputs": [],
   "source": [
    "def euclidian_distance(A, B):\n",
    "    if not (A.ndim == 1 and B.ndim == 1):\n",
    "        raise ValueError(\"Both numpy arrays should be single rows (1 dimensional).\")\n",
    "    return np.sqrt(np.sum(np.square(A - B)))\n",
    "\n",
    "def cosine_similarity(A, B):\n",
    "    if not (A.ndim == 1 and B.ndim == 1):\n",
    "        raise ValueError(\"Both numpy arrays should be single rows (1 dimensional).\")\n",
    "    return np.sum(A*B)/(np.sqrt(np.sum(A*A)) * np.sqrt(np.sum(B*B)))\n",
    "\n",
    "\n",
    "def predict(train_X, labels, test, K, metric, measure):\n",
    "    distances = []\n",
    "    for i, sample in enumerate(train_X):\n",
    "        if measure == EUCLID:\n",
    "            distance = euclidian_distance(sample, test)\n",
    "        elif measure == COSINE:\n",
    "            distance = cosine_similarity(sample, test)\n",
    "        distances.append((distance, i))\n",
    "\n",
    "    distances.sort()\n",
    "\n",
    "    return predict_label(distances, labels, K, metric, measure)\n",
    "\n",
    "def predict_label(distances, labels, K, metric, measure):\n",
    "    if metric == COUNT:\n",
    "        k_closest = [labels[x[1]] for x in distances[:K]]\n",
    "        counts = collections.Counter(k_closest)\n",
    "        return counts.most_common()[0][0], counts.most_common()[0][1] / K\n",
    "    if metric == DISTANCE_WEIGHTED:\n",
    "        label_sum = {}\n",
    "        max_sum = -1\n",
    "        count = 0\n",
    "        for distance, index in distances:\n",
    "            if distance == 0: continue\n",
    "            if count == K: break\n",
    "            count += 1\n",
    "            label_sum[labels[index]] = label_sum.get(labels[index], 0) + (1 / distance)\n",
    "            if label_sum[labels[index]] > max_sum:\n",
    "                max_sum = label_sum[labels[index]]\n",
    "                predicted_label = labels[index]\n",
    "        return predicted_label, max_sum / sum(label_sum.values())\n",
    "    \n",
    "def kNN(X_train, y_train, X_test, y_test, K, metric, measure):\n",
    "    predicted = []\n",
    "    for i, test in enumerate(X_test):\n",
    "        predicted_class, posterior = predict(X_train, y_train, test, K, metric, measure)\n",
    "        actual_class = y_test[i]\n",
    "        predicted.append((actual_class, predicted_class, posterior))\n",
    "    \n",
    "    prediction = pd.DataFrame.from_records(predicted, columns=[\"Actual\", \"Predicted\", \"Posterior\"])\n",
    "    \n",
    "    return prediction\n",
    "\n",
    "def get_accuracy(prediction_df):\n",
    "    return prediction_df[prediction_df[\"Actual\"] == prediction_df[\"Predicted\"]].shape[0] / prediction_df.shape[0]"
   ]
  },
  {
   "cell_type": "code",
   "execution_count": null,
   "metadata": {},
   "outputs": [],
   "source": [
    "get_accuracy(kNN(X_train, y_train, X_test, y_test, 24, DISTANCE_WEIGHTED, EUCLID))"
   ]
  },
  {
   "cell_type": "code",
   "execution_count": null,
   "metadata": {
    "scrolled": true
   },
   "outputs": [],
   "source": [
    "get_accuracy(kNN(X_train, y_train, X_test, y_test, 24, COUNT, EUCLID))"
   ]
  },
  {
   "cell_type": "code",
   "execution_count": null,
   "metadata": {},
   "outputs": [],
   "source": [
    "# Maximum accuracy is found at K = 38 for the euclidian distance measure.\n",
    "def optimal_K(metric):\n",
    "    K_candidates = range(1,50,2)\n",
    "    errors = []\n",
    "    for K in K_candidates:\n",
    "        accuracy = get_accuracy(kNN(X_train, y_train, X_test, y_test, K, metric))\n",
    "        errors.append(1 - accuracy)\n",
    "    \n",
    "    plt.plot(K_candidates, errors)\n",
    "    plt.show()\n",
    "    return np.where(errors==np.min(errors))"
   ]
  },
  {
   "cell_type": "code",
   "execution_count": null,
   "metadata": {},
   "outputs": [],
   "source": [
    "print(optimal_K(COUNT))\n",
    "print(optimal_K(DISTANCE_WEIGHTED))\n"
   ]
  },
  {
   "cell_type": "code",
   "execution_count": null,
   "metadata": {},
   "outputs": [],
   "source": []
  },
  {
   "cell_type": "code",
   "execution_count": null,
   "metadata": {},
   "outputs": [],
   "source": []
  },
  {
   "cell_type": "code",
   "execution_count": null,
   "metadata": {},
   "outputs": [],
   "source": []
  },
  {
   "cell_type": "code",
   "execution_count": null,
   "metadata": {},
   "outputs": [],
   "source": [
    "X_train"
   ]
  },
  {
   "cell_type": "code",
   "execution_count": null,
   "metadata": {},
   "outputs": [],
   "source": [
    "wine.mean()"
   ]
  },
  {
   "cell_type": "code",
   "execution_count": null,
   "metadata": {},
   "outputs": [],
   "source": []
  },
  {
   "cell_type": "code",
   "execution_count": null,
   "metadata": {},
   "outputs": [],
   "source": []
  },
  {
   "cell_type": "code",
   "execution_count": null,
   "metadata": {},
   "outputs": [],
   "source": []
  },
  {
   "cell_type": "code",
   "execution_count": null,
   "metadata": {},
   "outputs": [],
   "source": []
  },
  {
   "cell_type": "code",
   "execution_count": null,
   "metadata": {},
   "outputs": [],
   "source": []
  },
  {
   "cell_type": "code",
   "execution_count": null,
   "metadata": {},
   "outputs": [],
   "source": [
    "X_train, X_test, Y_train, Y_test = train_test_split(wine_data, wine_label, test_size=0.25, random_state=42)\n",
    "X_train_norm = (X_train - X_train.min()) / (X_train.max() -  X_train.min())\n",
    "X_test_norm = (X_test - X_train.min()) / (X_train.max() -  X_train.min())\n",
    "X_train = np.array(X_train_norm)\n",
    "X_test = np.array(X_test_norm)\n",
    "Y_train = np.array(Y_train)\n",
    "Y_test = np.array(Y_test)"
   ]
  },
  {
   "cell_type": "code",
   "execution_count": null,
   "metadata": {},
   "outputs": [],
   "source": [
    "get_accuracy(kNN(X_train, Y_train, X_test, Y_test, 24, DISTANCE_WEIGHTED, EUCLID))"
   ]
  },
  {
   "cell_type": "code",
   "execution_count": null,
   "metadata": {},
   "outputs": [],
   "source": []
  },
  {
   "cell_type": "code",
   "execution_count": null,
   "metadata": {},
   "outputs": [],
   "source": []
  },
  {
   "cell_type": "code",
   "execution_count": null,
   "metadata": {},
   "outputs": [],
   "source": [
    "df[np.abs(df.Data-df.Data.mean())<=(3*df.Data.std())] #keep only the ones that are within +3 to -3 standard deviations in the column 'Data'.\n",
    "df[~(np.abs(df.Data-df.Data.mean())>(3*df.Data.std()))] #or if you prefer the other"
   ]
  },
  {
   "cell_type": "code",
   "execution_count": null,
   "metadata": {},
   "outputs": [],
   "source": [
    "df=pd.DataFrame({'Data':np.random.normal(size=10000), 'Data2':np.random.normal(size=10000)})  #example dataset of normally distributed data. \n",
    "df.shape"
   ]
  },
  {
   "cell_type": "code",
   "execution_count": null,
   "metadata": {},
   "outputs": [],
   "source": [
    "df[np.abs(df.Data-df.Data.mean())<=(3*df.Data.std())].shape"
   ]
  },
  {
   "cell_type": "code",
   "execution_count": null,
   "metadata": {},
   "outputs": [],
   "source": [
    "df[(np.abs(df - df.mean()) <= (3*df.std())).all(1)]"
   ]
  },
  {
   "cell_type": "code",
   "execution_count": null,
   "metadata": {},
   "outputs": [],
   "source": []
  }
 ],
 "metadata": {
  "kernelspec": {
   "display_name": "Python 3",
   "language": "python",
   "name": "python3"
  },
  "language_info": {
   "codemirror_mode": {
    "name": "ipython",
    "version": 3
   },
   "file_extension": ".py",
   "mimetype": "text/x-python",
   "name": "python",
   "nbconvert_exporter": "python",
   "pygments_lexer": "ipython3",
   "version": "3.6.2"
  }
 },
 "nbformat": 4,
 "nbformat_minor": 2
}
